{
 "cells": [
  {
   "cell_type": "code",
   "execution_count": 1,
   "id": "bada3c4f-7336-461e-95bb-49c4eebc78ff",
   "metadata": {},
   "outputs": [],
   "source": [
    "import os\n",
    "import cv2\n",
    "import numpy as np\n",
    "from tqdm import tqdm\n",
    "import torch.optim as optim\n",
    "import torch\n",
    "import torch.nn as nn\n",
    "import torch.nn.functional as F\n",
    "\n",
    "REBUILD_DATA = True"
   ]
  },
  {
   "cell_type": "code",
   "execution_count": 18,
   "id": "5ec6a946-a1fa-495d-95a7-e2446dc8fe43",
   "metadata": {},
   "outputs": [
    {
     "name": "stdout",
     "output_type": "stream",
     "text": [
      "Running on GPU, 1\n"
     ]
    }
   ],
   "source": [
    "# def check_device(self):\n",
    "\"\"\"\n",
    "check if cuda is available then set device\n",
    "\"\"\"\n",
    "\n",
    "if torch.cuda.is_available():\n",
    "    device = torch.device(\"cuda:0\")\n",
    "    count = torch.cuda.device_count()\n",
    "    print(f\"Running on GPU, {count}\")\n",
    "else:\n",
    "    device = torch.devive(\"cpu\")\n",
    "    print(\"Running on GPU\")"
   ]
  },
  {
   "cell_type": "code",
   "execution_count": 3,
   "id": "47a202ee-1de3-4a80-9d42-17cc877cd7f1",
   "metadata": {},
   "outputs": [],
   "source": [
    "class CatDogClassifier():\n",
    "    img_size = 50\n",
    "    dog = \"PetImages/Dog\"\n",
    "    cat = \"PetImages/Cat\"\n",
    "    labels = {\n",
    "        cat: 0,\n",
    "        dog: 1\n",
    "    }\n",
    "    training_data = []\n",
    "    dog_count = 0\n",
    "    cat_count = 0\n",
    "\n",
    "    def make_training_data(self):\n",
    "        \"\"\"\n",
    "        open files in folder, grayscale then resize\n",
    "        append to training data as array and one hot vector\n",
    "        \"\"\"\n",
    "        print(\"reading files...\")\n",
    "        for label in self.labels:\n",
    "            print(label)\n",
    "            for f in tqdm(os.listdir(label)):\n",
    "                try:\n",
    "                    path = os.path.join(label, f)\n",
    "                    img = cv2.imread(path, cv2.IMREAD_GRAYSCALE)\n",
    "                    img = cv2.resize(\n",
    "                        img, \n",
    "                        (self.img_size, self.img_size)\n",
    "                    )\n",
    "                    self.training_data.append(\n",
    "                        [\n",
    "                            np.array(img), \n",
    "                            np.eye(2)[self.labels[label]]\n",
    "                        ]\n",
    "                    )\n",
    "                    if label == self.cat:\n",
    "                        self.cat_count += 1\n",
    "                    else:\n",
    "                        self.dog_count +=1\n",
    "                        \n",
    "                except Exception as e:\n",
    "                    pass\n",
    "        \n",
    "        np.random.shuffle(self.training_data)\n",
    "        np.save(\"training_data.npy\", self.training_data)\n",
    "        print(\"Cats: \", self.cat_count)\n",
    "        print(\"Dogs: \", self.dog_count)\n",
    "\n",
    "    def load_training_data(self):\n",
    "        if not os.path.exists(\"training_data.npy\"):\n",
    "            print(\"Training data save does not exists!\")\n",
    "            return None\n",
    "        self.training_data = np.load(\"training_data.npy\", allow_pickle=True)\n",
    "        print(\"Training data loaded...\")\n",
    "        return self.training_data\n",
    "                    "
   ]
  },
  {
   "cell_type": "code",
   "execution_count": 4,
   "id": "dde55a79-3175-4c58-963b-1d4967ffd131",
   "metadata": {},
   "outputs": [],
   "source": [
    "class Net(nn.Module):\n",
    "    \"\"\"\n",
    "    define layers, , \n",
    "    \"\"\"\n",
    "    BATCH_SIZE = 100\n",
    "    EPOCHS = 18\n",
    "    \n",
    "    def __init__(self):\n",
    "        super().__init__()\n",
    "        self.conv1 = nn.Conv2d(1, 32, 5)\n",
    "        self.conv2 = nn.Conv2d(32, 64, 5)\n",
    "        self.conv3 = nn.Conv2d(64, 128, 5)\n",
    "\n",
    "        x = torch.randn(50, 50).view(-1, 1, 50, 50)\n",
    "        self._to_linear = None\n",
    "        self.convs(x)\n",
    "        \n",
    "        self.fc1 = nn.Linear(self._to_linear, 512)\n",
    "        self.fc2 = nn.Linear(512, 2)\n",
    "\n",
    "    def convs(self, x):\n",
    "        # get flattened linear matrix shape\n",
    "        x = F.max_pool2d(\n",
    "            F.relu(self.conv1(x)), (2, 2)\n",
    "        )\n",
    "        x = F.max_pool2d(\n",
    "            F.relu(self.conv2(x)), (2, 2)\n",
    "        )\n",
    "        x = F.max_pool2d(\n",
    "            F.relu(self.conv3(x)), (2, 2)\n",
    "        )\n",
    "\n",
    "        if self._to_linear is None:\n",
    "            self._to_linear = x[0].shape[0] * x[0].shape[1] * x[0].shape[2]\n",
    "\n",
    "        return x\n",
    "\n",
    "    def forward(self, x):\n",
    "        # forward function\n",
    "        x = self.convs(x)\n",
    "        x = x.view(-1, self._to_linear)\n",
    "        x = F.relu(self.fc1(x))\n",
    "        x = self.fc2(x)\n",
    "        return F.softmax(x, dim=1)   \n"
   ]
  },
  {
   "cell_type": "code",
   "execution_count": 5,
   "id": "1bf92a05-6256-4b8b-b46c-c00d1dbdff21",
   "metadata": {},
   "outputs": [
    {
     "name": "stdout",
     "output_type": "stream",
     "text": [
      "Training data loaded...\n"
     ]
    }
   ],
   "source": [
    "c = CatDogClassifier()\n",
    "tr = c.load_training_data()"
   ]
  },
  {
   "cell_type": "code",
   "execution_count": 6,
   "id": "f78ac1a7-f373-4087-9827-c825cca365d2",
   "metadata": {},
   "outputs": [],
   "source": [
    "net = Net()"
   ]
  },
  {
   "cell_type": "code",
   "execution_count": 7,
   "id": "45a58c1a-15b9-4d7c-aed1-17b776ec6ff2",
   "metadata": {},
   "outputs": [
    {
     "name": "stderr",
     "output_type": "stream",
     "text": [
      "/tmp/ipykernel_56542/935780691.py:5: UserWarning: Creating a tensor from a list of numpy.ndarrays is extremely slow. Please consider converting the list to a single numpy.ndarray with numpy.array() before converting to a tensor. (Triggered internally at ../torch/csrc/utils/tensor_new.cpp:245.)\n",
      "  X = torch.Tensor([i[0] for i in tr]).view(-1, 50, 50)\n"
     ]
    },
    {
     "name": "stdout",
     "output_type": "stream",
     "text": [
      "2494\n"
     ]
    }
   ],
   "source": [
    "\"\"\"\n",
    "represent training data as X, y from training data\n",
    "\"\"\"\n",
    "\n",
    "X = torch.Tensor([i[0] for i in tr]).view(-1, 50, 50)\n",
    "X = X/255.0\n",
    "y = torch.Tensor([x[1] for x in tr])\n",
    "\n",
    "\n",
    "test_percentage = 0.1\n",
    "test_value_size = int(len(X) * test_percentage)\n",
    "\n",
    "print(test_value_size)"
   ]
  },
  {
   "cell_type": "code",
   "execution_count": null,
   "id": "6c79bc90-5f8a-4fb3-be9a-30c2f834f950",
   "metadata": {},
   "outputs": [],
   "source": []
  },
  {
   "cell_type": "code",
   "execution_count": 8,
   "id": "9b8f5460-b64b-4f48-a3be-cc18035ec899",
   "metadata": {},
   "outputs": [
    {
     "name": "stdout",
     "output_type": "stream",
     "text": [
      "22452\n",
      "2494\n"
     ]
    }
   ],
   "source": [
    "train_X = X[:-test_value_size]\n",
    "train_y = y[:-test_value_size]\n",
    "\n",
    "test_X = X[-test_value_size:]\n",
    "test_y = y[-test_value_size:]\n",
    "\n",
    "print(len(train_X))\n",
    "print(len(test_X))"
   ]
  },
  {
   "cell_type": "code",
   "execution_count": 19,
   "id": "b0344fbf-287e-47c6-bec5-472285556982",
   "metadata": {},
   "outputs": [
    {
     "data": {
      "text/plain": [
       "Net(\n",
       "  (conv1): Conv2d(1, 32, kernel_size=(5, 5), stride=(1, 1))\n",
       "  (conv2): Conv2d(32, 64, kernel_size=(5, 5), stride=(1, 1))\n",
       "  (conv3): Conv2d(64, 128, kernel_size=(5, 5), stride=(1, 1))\n",
       "  (fc1): Linear(in_features=512, out_features=512, bias=True)\n",
       "  (fc2): Linear(in_features=512, out_features=2, bias=True)\n",
       ")"
      ]
     },
     "execution_count": 19,
     "metadata": {},
     "output_type": "execute_result"
    }
   ],
   "source": [
    "net.to(device)"
   ]
  },
  {
   "cell_type": "code",
   "execution_count": null,
   "id": "c4695011-6102-43f9-bf91-01c29e31f6af",
   "metadata": {},
   "outputs": [],
   "source": [
    "BATCH_SIZE = 100\n",
    "EPOCHS = 10\n",
    "\n",
    "def train(net):\n",
    "    optimizer = optim.Adam(net.parameters(), lr=0.001)\n",
    "    loss_function = nn.MSELoss()\n",
    "    for epoch in range(EPOCHS):\n",
    "        for i in tqdm(range(0, len(train_X), BATCH_SIZE)):\n",
    "            batch_x = train_X[i:i + BATCH_SIZE].view(-1, 1, 50, 50).to(device)\n",
    "            batch_y = train_y[i:i + BATCH_SIZE].to(device)\n",
    "    \n",
    "            net.zero_grad()\n",
    "            outputs = net(batch_x)\n",
    "            loss = loss_function(outputs, batch_y)\n",
    "            loss.backward()\n",
    "            optimizer.step()\n",
    "\n",
    "        print(f\"Epoch: {epoch}, Loss: {loss}\")\n"
   ]
  },
  {
   "cell_type": "code",
   "execution_count": 10,
   "id": "b7b67a29-071c-4222-8d0f-a2ceab065fdd",
   "metadata": {},
   "outputs": [],
   "source": [
    "def test(net):\n",
    "    correct = 0\n",
    "    total = 0\n",
    "    with torch.no_grad():\n",
    "        for i in tqdm(range(len(test_X))):\n",
    "            real_class = torch.argmax(test_y[i])\n",
    "            net_out = net(\n",
    "                test_X[i].view(-1, 1, 50, 50).to(device)\n",
    "            )[0]\n",
    "            predicted_class = torch.argmax(net_out)\n",
    "            if predicted_class == real_class:\n",
    "                correct += 1\n",
    "            total += 1\n",
    "    print(\"Accuracy: \", round(correct/total, 3))"
   ]
  },
  {
   "cell_type": "code",
   "execution_count": 24,
   "id": "de19e9e0-c678-42e3-be4e-f4efbf4fde07",
   "metadata": {},
   "outputs": [],
   "source": [
    "def fwd_pass(X, y, train=False):\n",
    "    loss_function = nn.MSELoss()\n",
    "    if train:\n",
    "        net.zero_grad()\n",
    "    outputs = net(X)\n",
    "    matches = [torch.argmax(i) == torch.argmax(j) for i, j in zip(outputs, y)]\n",
    "    acc = matches.count(True)/len(matches)\n",
    "    loss = loss_function(outputs, y)\n",
    "\n",
    "    if train:\n",
    "        loss.backward()\n",
    "        optimizer.step()\n",
    "\n",
    "    return acc, loss"
   ]
  },
  {
   "cell_type": "code",
   "execution_count": 35,
   "id": "d3ae9ae3-c11c-4691-ad2c-3bbdd338d787",
   "metadata": {},
   "outputs": [],
   "source": [
    "def test(size=50):\n",
    "    random_start = np.random.randint(len(test_X)-size)\n",
    "    X, y = test_X[random_start:random_start+size], test_y[random_start:random_start+size]\n",
    "    with torch.no_grad():\n",
    "        val_acc, val_loss = fwd_pass(X.view(-1, 1, 50, 50).to(device), y.to(device))\n",
    "    return val_acc, val_loss\n",
    "\n"
   ]
  },
  {
   "cell_type": "code",
   "execution_count": 27,
   "id": "40ba5a02-ebcd-4d61-a1a3-20db9ead4ada",
   "metadata": {
    "scrolled": true
   },
   "outputs": [
    {
     "name": "stderr",
     "output_type": "stream",
     "text": [
      "100%|█████████████████████████████████████████████████████████████████████████████████████████████████████████████████████████████████████████████████████████████████████████████████████████████| 225/225 [00:26<00:00,  8.61it/s]\n"
     ]
    },
    {
     "name": "stdout",
     "output_type": "stream",
     "text": [
      "Epoch: 0, Loss: 0.05185152217745781\n"
     ]
    },
    {
     "name": "stderr",
     "output_type": "stream",
     "text": [
      "100%|█████████████████████████████████████████████████████████████████████████████████████████████████████████████████████████████████████████████████████████████████████████████████████████████| 225/225 [00:26<00:00,  8.60it/s]\n"
     ]
    },
    {
     "name": "stdout",
     "output_type": "stream",
     "text": [
      "Epoch: 1, Loss: 0.031129466369748116\n"
     ]
    },
    {
     "name": "stderr",
     "output_type": "stream",
     "text": [
      " 94%|█████████████████████████████████████████████████████████████████████████████████████████████████████████████████████████████████████████████████████████████████████████████████▏           | 211/225 [00:24<00:01,  8.55it/s]\n"
     ]
    },
    {
     "ename": "KeyboardInterrupt",
     "evalue": "",
     "output_type": "error",
     "traceback": [
      "\u001b[0;31m---------------------------------------------------------------------------\u001b[0m",
      "\u001b[0;31mKeyboardInterrupt\u001b[0m                         Traceback (most recent call last)",
      "Cell \u001b[0;32mIn[27], line 1\u001b[0m\n\u001b[0;32m----> 1\u001b[0m train_net \u001b[38;5;241m=\u001b[39m \u001b[43mtrain\u001b[49m\u001b[43m(\u001b[49m\u001b[43mnet\u001b[49m\u001b[43m)\u001b[49m\n",
      "Cell \u001b[0;32mIn[20], line 9\u001b[0m, in \u001b[0;36mtrain\u001b[0;34m(net)\u001b[0m\n\u001b[1;32m      7\u001b[0m \u001b[38;5;28;01mfor\u001b[39;00m epoch \u001b[38;5;129;01min\u001b[39;00m \u001b[38;5;28mrange\u001b[39m(EPOCHS):\n\u001b[1;32m      8\u001b[0m     \u001b[38;5;28;01mfor\u001b[39;00m i \u001b[38;5;129;01min\u001b[39;00m tqdm(\u001b[38;5;28mrange\u001b[39m(\u001b[38;5;241m0\u001b[39m, \u001b[38;5;28mlen\u001b[39m(train_X), BATCH_SIZE)):\n\u001b[0;32m----> 9\u001b[0m         batch_x \u001b[38;5;241m=\u001b[39m \u001b[43mtrain_X\u001b[49m\u001b[43m[\u001b[49m\u001b[43mi\u001b[49m\u001b[43m:\u001b[49m\u001b[43mi\u001b[49m\u001b[43m \u001b[49m\u001b[38;5;241;43m+\u001b[39;49m\u001b[43m \u001b[49m\u001b[43mBATCH_SIZE\u001b[49m\u001b[43m]\u001b[49m\u001b[38;5;241;43m.\u001b[39;49m\u001b[43mview\u001b[49m\u001b[43m(\u001b[49m\u001b[38;5;241;43m-\u001b[39;49m\u001b[38;5;241;43m1\u001b[39;49m\u001b[43m,\u001b[49m\u001b[43m \u001b[49m\u001b[38;5;241;43m1\u001b[39;49m\u001b[43m,\u001b[49m\u001b[43m \u001b[49m\u001b[38;5;241;43m50\u001b[39;49m\u001b[43m,\u001b[49m\u001b[43m \u001b[49m\u001b[38;5;241;43m50\u001b[39;49m\u001b[43m)\u001b[49m\u001b[38;5;241;43m.\u001b[39;49m\u001b[43mto\u001b[49m\u001b[43m(\u001b[49m\u001b[43mdevice\u001b[49m\u001b[43m)\u001b[49m\n\u001b[1;32m     10\u001b[0m         batch_y \u001b[38;5;241m=\u001b[39m train_y[i:i \u001b[38;5;241m+\u001b[39m BATCH_SIZE]\u001b[38;5;241m.\u001b[39mto(device)\n\u001b[1;32m     12\u001b[0m         net\u001b[38;5;241m.\u001b[39mzero_grad()\n",
      "\u001b[0;31mKeyboardInterrupt\u001b[0m: "
     ]
    }
   ],
   "source": [
    "train_net = train(net)"
   ]
  },
  {
   "cell_type": "code",
   "execution_count": 33,
   "id": "fd225c63-353b-4ca6-8519-f76eca42d788",
   "metadata": {},
   "outputs": [],
   "source": [
    "test_val, test_loss = test()"
   ]
  },
  {
   "cell_type": "code",
   "execution_count": 36,
   "id": "4d3ab8e9-f31f-4ce2-9294-f9973a4239a5",
   "metadata": {
    "scrolled": true
   },
   "outputs": [
    {
     "data": {
      "text/plain": [
       "(0.62, tensor(0.2750, device='cuda:0', grad_fn=<MseLossBackward0>))"
      ]
     },
     "execution_count": 36,
     "metadata": {},
     "output_type": "execute_result"
    }
   ],
   "source": [
    "test_val, test_loss"
   ]
  },
  {
   "cell_type": "code",
   "execution_count": null,
   "id": "868a2fb2-7936-47ed-aa3a-5dfc55866f55",
   "metadata": {},
   "outputs": [],
   "source": []
  },
  {
   "cell_type": "code",
   "execution_count": null,
   "id": "58ab88aa-4b4b-47e3-9222-02e337dbca30",
   "metadata": {},
   "outputs": [],
   "source": []
  },
  {
   "cell_type": "code",
   "execution_count": null,
   "id": "b95fa3bf-bd8a-4431-aadc-5d2a0070eb26",
   "metadata": {},
   "outputs": [],
   "source": []
  },
  {
   "cell_type": "code",
   "execution_count": null,
   "id": "3e1c134b-20ea-4249-9426-281a6873565c",
   "metadata": {},
   "outputs": [],
   "source": []
  },
  {
   "cell_type": "code",
   "execution_count": null,
   "id": "5fe67a41-b390-45be-a52b-825181b6bd07",
   "metadata": {},
   "outputs": [],
   "source": []
  }
 ],
 "metadata": {
  "kernelspec": {
   "display_name": "Python 3 (ipykernel)",
   "language": "python",
   "name": "python3"
  },
  "language_info": {
   "codemirror_mode": {
    "name": "ipython",
    "version": 3
   },
   "file_extension": ".py",
   "mimetype": "text/x-python",
   "name": "python",
   "nbconvert_exporter": "python",
   "pygments_lexer": "ipython3",
   "version": "3.10.12"
  }
 },
 "nbformat": 4,
 "nbformat_minor": 5
}
