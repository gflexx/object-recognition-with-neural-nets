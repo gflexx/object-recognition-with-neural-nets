{
 "cells": [
  {
   "cell_type": "markdown",
   "id": "213b3644-ad1d-40f6-90df-6b1cecffe491",
   "metadata": {},
   "source": [
    "# dataset link\n",
    "https://www.kaggle.com/datasets/andrewmvd/animal-faces\n"
   ]
  },
  {
   "cell_type": "code",
   "execution_count": 1,
   "id": "5f8dc42a-f849-4c57-b9a4-d71a35992bce",
   "metadata": {},
   "outputs": [],
   "source": [
    "import torch\n",
    "from torch import nn\n",
    "from torchvision.transforms import transforms\n",
    "from torch.utils.data import Dataset, DataLoader\n",
    "from sklearn.preprocessing import LabelEncoder\n",
    "import matplotlib.pyplot as plt\n",
    "from PIL import Image\n",
    "import pandas as pd\n",
    "import numpy as np\n",
    "import os\n"
   ]
  },
  {
   "cell_type": "code",
   "execution_count": 2,
   "id": "e749ee99-55d3-4bcc-8c4f-e02612d3c889",
   "metadata": {},
   "outputs": [
    {
     "data": {
      "text/plain": [
       "'cuda'"
      ]
     },
     "execution_count": 2,
     "metadata": {},
     "output_type": "execute_result"
    }
   ],
   "source": [
    "device = \"cuda\" if torch.cuda.is_available() else \"cpu\"\n",
    "device"
   ]
  },
  {
   "cell_type": "code",
   "execution_count": 3,
   "id": "d19af5c7-44ca-4d3d-a97a-aff99c0266bb",
   "metadata": {},
   "outputs": [],
   "source": [
    "\"\"\"\n",
    "loop through images and labels then create dataframe\n",
    "\"\"\"\n",
    "\n",
    "image_path = []\n",
    "labels = []\n",
    "data_folder = 'afhq'\n",
    "\n",
    "for i in os.listdir(data_folder):\n",
    "    for label in os.listdir(f\"{data_folder}/{i}\"):\n",
    "        for image in os.listdir(f\"{data_folder}/{i}/{label}\"):\n",
    "            image_path.append(f\"{data_folder}/{i}/{label}/{image}\")\n",
    "            labels.append(label)\n",
    "\n",
    "df = pd.DataFrame(zip(image_path, labels), columns=[\"path\", \"label\"])"
   ]
  },
  {
   "cell_type": "code",
   "execution_count": 4,
   "id": "c82602a9-f4c4-4c0a-8eb6-db8fec6b8dba",
   "metadata": {},
   "outputs": [
    {
     "data": {
      "text/html": [
       "<div>\n",
       "<style scoped>\n",
       "    .dataframe tbody tr th:only-of-type {\n",
       "        vertical-align: middle;\n",
       "    }\n",
       "\n",
       "    .dataframe tbody tr th {\n",
       "        vertical-align: top;\n",
       "    }\n",
       "\n",
       "    .dataframe thead th {\n",
       "        text-align: right;\n",
       "    }\n",
       "</style>\n",
       "<table border=\"1\" class=\"dataframe\">\n",
       "  <thead>\n",
       "    <tr style=\"text-align: right;\">\n",
       "      <th></th>\n",
       "      <th>path</th>\n",
       "      <th>label</th>\n",
       "    </tr>\n",
       "  </thead>\n",
       "  <tbody>\n",
       "    <tr>\n",
       "      <th>0</th>\n",
       "      <td>afhq/val/cat/pixabay_cat_000440.jpg</td>\n",
       "      <td>cat</td>\n",
       "    </tr>\n",
       "    <tr>\n",
       "      <th>1</th>\n",
       "      <td>afhq/val/cat/pixabay_cat_000099.jpg</td>\n",
       "      <td>cat</td>\n",
       "    </tr>\n",
       "    <tr>\n",
       "      <th>2</th>\n",
       "      <td>afhq/val/cat/pixabay_cat_000531.jpg</td>\n",
       "      <td>cat</td>\n",
       "    </tr>\n",
       "    <tr>\n",
       "      <th>3</th>\n",
       "      <td>afhq/val/cat/pixabay_cat_002156.jpg</td>\n",
       "      <td>cat</td>\n",
       "    </tr>\n",
       "    <tr>\n",
       "      <th>4</th>\n",
       "      <td>afhq/val/cat/flickr_cat_000802.jpg</td>\n",
       "      <td>cat</td>\n",
       "    </tr>\n",
       "  </tbody>\n",
       "</table>\n",
       "</div>"
      ],
      "text/plain": [
       "                                  path label\n",
       "0  afhq/val/cat/pixabay_cat_000440.jpg   cat\n",
       "1  afhq/val/cat/pixabay_cat_000099.jpg   cat\n",
       "2  afhq/val/cat/pixabay_cat_000531.jpg   cat\n",
       "3  afhq/val/cat/pixabay_cat_002156.jpg   cat\n",
       "4   afhq/val/cat/flickr_cat_000802.jpg   cat"
      ]
     },
     "execution_count": 4,
     "metadata": {},
     "output_type": "execute_result"
    }
   ],
   "source": [
    "df.head()"
   ]
  },
  {
   "cell_type": "code",
   "execution_count": 5,
   "id": "ceccfa10-d386-44e9-bb4a-3bcfb423a21e",
   "metadata": {},
   "outputs": [
    {
     "data": {
      "text/plain": [
       "array(['cat', 'dog', 'wild'], dtype=object)"
      ]
     },
     "execution_count": 5,
     "metadata": {},
     "output_type": "execute_result"
    }
   ],
   "source": [
    "df[\"label\"].unique()"
   ]
  },
  {
   "cell_type": "code",
   "execution_count": 6,
   "id": "e1bbeef6-b8a7-4c36-a692-2b7ffc0624a0",
   "metadata": {},
   "outputs": [
    {
     "name": "stdout",
     "output_type": "stream",
     "text": [
      "(11291, 2)\n",
      "(2419, 2)\n",
      "(2420, 2)\n"
     ]
    }
   ],
   "source": [
    "\"\"\"\n",
    "split data for training, testing and validation\n",
    "\"\"\"\n",
    "\n",
    "train = df.sample(frac=0.7)\n",
    "test = df.drop(train.index)\n",
    "val = test.sample(frac=0.5)\n",
    "test = test.drop(val.index)\n",
    "\n",
    "print(train.shape)\n",
    "print(test.shape)\n",
    "print(val.shape)"
   ]
  },
  {
   "cell_type": "code",
   "execution_count": 7,
   "id": "5fbd1ff3-caab-4aa6-9674-d10ca97e17fe",
   "metadata": {},
   "outputs": [
    {
     "data": {
      "text/html": [
       "<style>#sk-container-id-1 {color: black;background-color: white;}#sk-container-id-1 pre{padding: 0;}#sk-container-id-1 div.sk-toggleable {background-color: white;}#sk-container-id-1 label.sk-toggleable__label {cursor: pointer;display: block;width: 100%;margin-bottom: 0;padding: 0.3em;box-sizing: border-box;text-align: center;}#sk-container-id-1 label.sk-toggleable__label-arrow:before {content: \"▸\";float: left;margin-right: 0.25em;color: #696969;}#sk-container-id-1 label.sk-toggleable__label-arrow:hover:before {color: black;}#sk-container-id-1 div.sk-estimator:hover label.sk-toggleable__label-arrow:before {color: black;}#sk-container-id-1 div.sk-toggleable__content {max-height: 0;max-width: 0;overflow: hidden;text-align: left;background-color: #f0f8ff;}#sk-container-id-1 div.sk-toggleable__content pre {margin: 0.2em;color: black;border-radius: 0.25em;background-color: #f0f8ff;}#sk-container-id-1 input.sk-toggleable__control:checked~div.sk-toggleable__content {max-height: 200px;max-width: 100%;overflow: auto;}#sk-container-id-1 input.sk-toggleable__control:checked~label.sk-toggleable__label-arrow:before {content: \"▾\";}#sk-container-id-1 div.sk-estimator input.sk-toggleable__control:checked~label.sk-toggleable__label {background-color: #d4ebff;}#sk-container-id-1 div.sk-label input.sk-toggleable__control:checked~label.sk-toggleable__label {background-color: #d4ebff;}#sk-container-id-1 input.sk-hidden--visually {border: 0;clip: rect(1px 1px 1px 1px);clip: rect(1px, 1px, 1px, 1px);height: 1px;margin: -1px;overflow: hidden;padding: 0;position: absolute;width: 1px;}#sk-container-id-1 div.sk-estimator {font-family: monospace;background-color: #f0f8ff;border: 1px dotted black;border-radius: 0.25em;box-sizing: border-box;margin-bottom: 0.5em;}#sk-container-id-1 div.sk-estimator:hover {background-color: #d4ebff;}#sk-container-id-1 div.sk-parallel-item::after {content: \"\";width: 100%;border-bottom: 1px solid gray;flex-grow: 1;}#sk-container-id-1 div.sk-label:hover label.sk-toggleable__label {background-color: #d4ebff;}#sk-container-id-1 div.sk-serial::before {content: \"\";position: absolute;border-left: 1px solid gray;box-sizing: border-box;top: 0;bottom: 0;left: 50%;z-index: 0;}#sk-container-id-1 div.sk-serial {display: flex;flex-direction: column;align-items: center;background-color: white;padding-right: 0.2em;padding-left: 0.2em;position: relative;}#sk-container-id-1 div.sk-item {position: relative;z-index: 1;}#sk-container-id-1 div.sk-parallel {display: flex;align-items: stretch;justify-content: center;background-color: white;position: relative;}#sk-container-id-1 div.sk-item::before, #sk-container-id-1 div.sk-parallel-item::before {content: \"\";position: absolute;border-left: 1px solid gray;box-sizing: border-box;top: 0;bottom: 0;left: 50%;z-index: -1;}#sk-container-id-1 div.sk-parallel-item {display: flex;flex-direction: column;z-index: 1;position: relative;background-color: white;}#sk-container-id-1 div.sk-parallel-item:first-child::after {align-self: flex-end;width: 50%;}#sk-container-id-1 div.sk-parallel-item:last-child::after {align-self: flex-start;width: 50%;}#sk-container-id-1 div.sk-parallel-item:only-child::after {width: 0;}#sk-container-id-1 div.sk-dashed-wrapped {border: 1px dashed gray;margin: 0 0.4em 0.5em 0.4em;box-sizing: border-box;padding-bottom: 0.4em;background-color: white;}#sk-container-id-1 div.sk-label label {font-family: monospace;font-weight: bold;display: inline-block;line-height: 1.2em;}#sk-container-id-1 div.sk-label-container {text-align: center;}#sk-container-id-1 div.sk-container {/* jupyter's `normalize.less` sets `[hidden] { display: none; }` but bootstrap.min.css set `[hidden] { display: none !important; }` so we also need the `!important` here to be able to override the default hidden behavior on the sphinx rendered scikit-learn.org. See: https://github.com/scikit-learn/scikit-learn/issues/21755 */display: inline-block !important;position: relative;}#sk-container-id-1 div.sk-text-repr-fallback {display: none;}</style><div id=\"sk-container-id-1\" class=\"sk-top-container\"><div class=\"sk-text-repr-fallback\"><pre>LabelEncoder()</pre><b>In a Jupyter environment, please rerun this cell to show the HTML representation or trust the notebook. <br />On GitHub, the HTML representation is unable to render, please try loading this page with nbviewer.org.</b></div><div class=\"sk-container\" hidden><div class=\"sk-item\"><div class=\"sk-estimator sk-toggleable\"><input class=\"sk-toggleable__control sk-hidden--visually\" id=\"sk-estimator-id-1\" type=\"checkbox\" checked><label for=\"sk-estimator-id-1\" class=\"sk-toggleable__label sk-toggleable__label-arrow\">LabelEncoder</label><div class=\"sk-toggleable__content\"><pre>LabelEncoder()</pre></div></div></div></div></div>"
      ],
      "text/plain": [
       "LabelEncoder()"
      ]
     },
     "execution_count": 7,
     "metadata": {},
     "output_type": "execute_result"
    }
   ],
   "source": [
    "\"\"\"\n",
    "encode our labels\n",
    "\"\"\"\n",
    "label_encoder = LabelEncoder()\n",
    "label_encoder.fit(df[\"label\"])"
   ]
  },
  {
   "cell_type": "code",
   "execution_count": 8,
   "id": "c59ed41c-dc03-459a-a9fc-2e1d0483ec89",
   "metadata": {},
   "outputs": [],
   "source": [
    "\"\"\"\n",
    "create a transformer to process images\n",
    "\"\"\"\n",
    "\n",
    "transform = transforms.Compose([\n",
    "    transforms.Resize([128,128]),\n",
    "    transforms.ToTensor(),\n",
    "    transforms.ConvertImageDtype(torch.float)\n",
    "])"
   ]
  },
  {
   "cell_type": "code",
   "execution_count": 79,
   "id": "e3e74e2c-afe9-43df-8427-048f949d9974",
   "metadata": {},
   "outputs": [],
   "source": [
    "class CustomImageDataset(Dataset):\n",
    "    \"\"\"\n",
    "    create a dataset class to convert data to torch dataset\n",
    "    \"\"\"\n",
    "    def __init__(self, dataframe, transform=None):\n",
    "        self.dataframe = dataframe\n",
    "        self.transform = transform\n",
    "        self.labels = torch.tensor(\n",
    "            label_encoder.transform(dataframe['label'])\n",
    "        ).to(device)\n",
    "\n",
    "    def __len__(self):\n",
    "        \"\"\"\n",
    "        return length of dataframe\n",
    "        \"\"\"\n",
    "        return self.dataframe.shape[0]\n",
    "\n",
    "    def __getitem__(self, idx):\n",
    "        \"\"\"\n",
    "        get and open image using index\n",
    "        \"\"\"\n",
    "        label = self.labels[idx]\n",
    "        img_path = self.dataframe.iloc[idx, 0]\n",
    "        img = Image.open(img_path).convert('RGB')\n",
    "        img = self.transform(img).to(device)\n",
    "        return img, label\n",
    "        "
   ]
  },
  {
   "cell_type": "code",
   "execution_count": 82,
   "id": "1ca18853-85ab-4009-92fa-f4f5a9a9b9f4",
   "metadata": {},
   "outputs": [],
   "source": [
    "train_data = CustomImageDataset(dataframe=train, transform=transform)\n",
    "test_data = CustomImageDataset(dataframe=test, transform=transform)\n",
    "val_data = CustomImageDataset(dataframe=val, transform=transform)"
   ]
  },
  {
   "cell_type": "code",
   "execution_count": 83,
   "id": "86648f81-24fe-453b-b3be-e96d97267e40",
   "metadata": {
    "scrolled": true
   },
   "outputs": [],
   "source": [
    "img, label = train_data.__getitem__(2)"
   ]
  },
  {
   "cell_type": "code",
   "execution_count": 85,
   "id": "eddd2f06-de10-4105-998f-375f69794efa",
   "metadata": {},
   "outputs": [
    {
     "data": {
      "text/plain": [
       "array(['cat'], dtype=object)"
      ]
     },
     "execution_count": 85,
     "metadata": {},
     "output_type": "execute_result"
    }
   ],
   "source": [
    "label_encoder.inverse_transform([torch.Tensor.cpu(label)])"
   ]
  },
  {
   "cell_type": "code",
   "execution_count": 89,
   "id": "261fb32c-de60-453f-aeb7-27974f555b1d",
   "metadata": {},
   "outputs": [],
   "source": [
    "LR = 1e-4\n",
    "BATCH_SIZE = 50\n",
    "EPOCHS = 10\n"
   ]
  },
  {
   "cell_type": "code",
   "execution_count": null,
   "id": "3c674701-ff03-4398-bf19-7d591015257f",
   "metadata": {},
   "outputs": [],
   "source": [
    "train_loader = DataLoader(train_data, batch_size=BATCH_SIZE, shuffle=True)\n",
    "test_loader = DataLoader(test_data, batch_size=BATCH_SIZE, shuffle=True)\n",
    "val_loader = DataLoader(val_data, batch_size=BATCH_SIZE, shuffle=True)\n"
   ]
  },
  {
   "cell_type": "code",
   "execution_count": null,
   "id": "2cfcf871-bccf-4985-9bed-ac327e310021",
   "metadata": {},
   "outputs": [],
   "source": []
  },
  {
   "cell_type": "code",
   "execution_count": null,
   "id": "f5d27b8d-7864-4b32-bb73-cf1599f020e4",
   "metadata": {},
   "outputs": [],
   "source": []
  }
 ],
 "metadata": {
  "kernelspec": {
   "display_name": "Python 3 (ipykernel)",
   "language": "python",
   "name": "python3"
  },
  "language_info": {
   "codemirror_mode": {
    "name": "ipython",
    "version": 3
   },
   "file_extension": ".py",
   "mimetype": "text/x-python",
   "name": "python",
   "nbconvert_exporter": "python",
   "pygments_lexer": "ipython3",
   "version": "3.10.12"
  }
 },
 "nbformat": 4,
 "nbformat_minor": 5
}
