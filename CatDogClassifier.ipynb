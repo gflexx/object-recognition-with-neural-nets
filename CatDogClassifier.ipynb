{
 "cells": [
  {
   "cell_type": "code",
   "execution_count": 1,
   "id": "2d0dcac0-9596-4fc9-abdc-5ca6132b1f96",
   "metadata": {},
   "outputs": [],
   "source": [
    "import os\n",
    "import cv2\n",
    "import numpy as np\n",
    "from tqdm import tqdm\n",
    "import torch.optim as optim\n",
    "import torch\n",
    "import torch.nn as nn\n",
    "import torch.nn.functional as F"
   ]
  },
  {
   "cell_type": "code",
   "execution_count": 2,
   "id": "5857078e-c85e-4d17-8f64-582aa57b86e8",
   "metadata": {},
   "outputs": [],
   "source": [
    "class Net(nn.Module):\n",
    "    \"\"\"\n",
    "    define layers, , \n",
    "    \"\"\"\n",
    "    BATCH_SIZE = 100\n",
    "    EPOCHS = 18\n",
    "    \n",
    "    def __init__(self):\n",
    "        super().__init__()\n",
    "        self.conv1 = nn.Conv2d(1, 32, 5)\n",
    "        self.conv2 = nn.Conv2d(32, 64, 5)\n",
    "        self.conv3 = nn.Conv2d(64, 128, 5)\n",
    "\n",
    "        x = torch.randn(50, 50).view(-1, 1, 50, 50)\n",
    "        self._to_linear = None\n",
    "        self.convs(x)\n",
    "        \n",
    "        self.fc1 = nn.Linear(self._to_linear, 512)\n",
    "        self.fc2 = nn.Linear(512, 2)\n",
    "\n",
    "    def convs(self, x):\n",
    "        # get flattened linear matrix shape\n",
    "        x = F.max_pool2d(\n",
    "            F.relu(self.conv1(x)), (2, 2)\n",
    "        )\n",
    "        x = F.max_pool2d(\n",
    "            F.relu(self.conv2(x)), (2, 2)\n",
    "        )\n",
    "        x = F.max_pool2d(\n",
    "            F.relu(self.conv3(x)), (2, 2)\n",
    "        )\n",
    "\n",
    "        if self._to_linear is None:\n",
    "            self._to_linear = x[0].shape[0] * x[0].shape[1] * x[0].shape[2]\n",
    "\n",
    "        return x\n",
    "\n",
    "    def forward(self, x):\n",
    "        # forward function\n",
    "        x = self.convs(x)\n",
    "        x = x.view(-1, self._to_linear)\n",
    "        x = F.relu(self.fc1(x))\n",
    "        x = self.fc2(x)\n",
    "        return F.softmax(x, dim=1)   "
   ]
  },
  {
   "cell_type": "code",
   "execution_count": 12,
   "id": "6a50d3a3-f1d8-46d9-8abf-1e9b92e8d93c",
   "metadata": {},
   "outputs": [],
   "source": [
    "class CatDogClassifier():\n",
    "    epochs = 9\n",
    "    batch_size = 100\n",
    "    img_size = 50\n",
    "    dog = \"PetImages/Dog\"\n",
    "    cat = \"PetImages/Cat\"\n",
    "    labels = {\n",
    "        cat: 0,\n",
    "        dog: 1\n",
    "    }\n",
    "    training_data = []\n",
    "    dog_count = 0\n",
    "    cat_count = 0\n",
    "    net = None\n",
    "    device = None\n",
    "    test_percentage = 0.1\n",
    "    train_X = None\n",
    "    train_y = None\n",
    "    test_X = None\n",
    "    test_y = None\n",
    "    \n",
    "    def __init__(self):\n",
    "        self.net = Net()\n",
    "        self.check_device()\n",
    "        \n",
    "    def check_device(self):\n",
    "        \"\"\"\n",
    "        check if cuda is available then set device\n",
    "        \"\"\"\n",
    "        \n",
    "        if torch.cuda.is_available():\n",
    "            device = torch.device(\"cuda:0\")\n",
    "            count = torch.cuda.device_count()\n",
    "            print(f\"Running on GPU, {count}\")\n",
    "        else:\n",
    "            device = torch.devive(\"cpu\")\n",
    "            print(\"Running on GPU\")\n",
    "        self.device = device\n",
    "        self.net.to(device)\n",
    "        return self.device\n",
    "\n",
    "    def split_training_data(self):\n",
    "        \"\"\"\n",
    "        represent training data as X, y from training data\n",
    "        \"\"\"\n",
    "        tr = self.load_training_data()\n",
    "        if tr is None:\n",
    "            print(\"No training data found.\")\n",
    "            return\n",
    "        else:\n",
    "            X = torch.Tensor([i[0] for i in tr]).view(-1, 50, 50)\n",
    "            X = X/255.0\n",
    "            y = torch.Tensor([x[1] for x in tr])\n",
    "            \n",
    "            test_value_size = int(len(X) * self.test_percentage)\n",
    "            print(f\"Test value size: {test_value_size}\")\n",
    "    \n",
    "            self.train_X = X[:-test_value_size]\n",
    "            self.train_y = y[:-test_value_size]\n",
    "            \n",
    "            self.test_X = X[-test_value_size:]\n",
    "            self.test_y = y[-test_value_size:]\n",
    "\n",
    "    def train_neural_net(self):\n",
    "        \"\"\"\n",
    "        Train Net on Data\n",
    "        \"\"\"\n",
    "        optimizer = optim.Adam(\n",
    "            self.net.parameters(), lr=0.001\n",
    "        )\n",
    "        loss_function = nn.MSELoss()\n",
    "        for epoch in range(self.epochs):\n",
    "            for i in tqdm(range(0, len(self.train_X), self.batch_size)):\n",
    "                batch_x = self.train_X[i:i + self.batch_size].view(-1, 1, 50, 50).to(self.device)\n",
    "                batch_y = self.train_y[i:i + self.batch_size].to(self.device)\n",
    "        \n",
    "                self.net.zero_grad()\n",
    "                outputs = self.net(batch_x)\n",
    "                loss = loss_function(outputs, batch_y)\n",
    "                loss.backward()\n",
    "                optimizer.step()\n",
    "    \n",
    "            print(f\"Epoch: {epoch}, Loss: {loss}\")\n",
    "\n",
    "    def test_neural_net(self):\n",
    "        \"\"\"\n",
    "        Test Net accouracy\n",
    "        \"\"\"\n",
    "        correct = 0\n",
    "        total = 0\n",
    "        with torch.no_grad():\n",
    "            for i in tqdm(range(len(self.test_X))):\n",
    "                real_class = torch.argmax(self.test_y[i])\n",
    "                net_out = self.net(\n",
    "                    self.test_X[i].view(-1, 1, 50, 50).to(self.device)\n",
    "                )[0]\n",
    "                predicted_class = torch.argmax(net_out)\n",
    "                if predicted_class == real_class:\n",
    "                    correct += 1\n",
    "                total += 1\n",
    "        print(\"Accuracy: \", round(correct/total, 3))\n",
    "        \n",
    "    def make_training_data(self):\n",
    "        \"\"\"\n",
    "        open files in folder, grayscale then resize\n",
    "        append to training data as array and one hot vector\n",
    "        \"\"\"\n",
    "        print(\"reading files...\")\n",
    "        for label in self.labels:\n",
    "            print(label)\n",
    "            for f in tqdm(os.listdir(label)):\n",
    "                try:\n",
    "                    path = os.path.join(label, f)\n",
    "                    img = cv2.imread(path, cv2.IMREAD_GRAYSCALE)\n",
    "                    img = cv2.resize(\n",
    "                        img, \n",
    "                        (self.img_size, self.img_size)\n",
    "                    )\n",
    "                    self.training_data.append(\n",
    "                        [\n",
    "                            np.array(img), \n",
    "                            np.eye(2)[self.labels[label]]\n",
    "                        ]\n",
    "                    )\n",
    "                    if label == self.cat:\n",
    "                        self.cat_count += 1\n",
    "                    else:\n",
    "                        self.dog_count +=1\n",
    "                        \n",
    "                except Exception as e:\n",
    "                    pass\n",
    "        \n",
    "        np.random.shuffle(self.training_data)\n",
    "        np.save(\"training_data.npy\", self.training_data)\n",
    "        print(\"Cats: \", self.cat_count)\n",
    "        print(\"Dogs: \", self.dog_count)\n",
    "\n",
    "    def load_training_data(self):\n",
    "        if not os.path.exists(\"training_data.npy\"):\n",
    "            print(\"Training data save does not exists!\")\n",
    "            return None\n",
    "        self.training_data = np.load(\"training_data.npy\", allow_pickle=True)\n",
    "        print(\"Training data loaded...\")\n",
    "        return self.training_data\n",
    "                    "
   ]
  },
  {
   "cell_type": "code",
   "execution_count": 13,
   "id": "f1a2f41f-d148-41c7-a508-e1e46f317144",
   "metadata": {},
   "outputs": [
    {
     "name": "stdout",
     "output_type": "stream",
     "text": [
      "Running on GPU, 1\n"
     ]
    }
   ],
   "source": [
    "c = CatDogClassifier()"
   ]
  },
  {
   "cell_type": "code",
   "execution_count": 14,
   "id": "31b39b1d-b1d0-4ecf-bcdf-34d72f7344fc",
   "metadata": {},
   "outputs": [
    {
     "name": "stdout",
     "output_type": "stream",
     "text": [
      "Training data loaded...\n",
      "Test value size: 2494\n",
      "Train X: 22452, Test X:2494\n"
     ]
    }
   ],
   "source": [
    "c.split_training_data()"
   ]
  },
  {
   "cell_type": "code",
   "execution_count": 15,
   "id": "9d429ebf-43a5-4e45-adb3-949c606b63e8",
   "metadata": {},
   "outputs": [
    {
     "name": "stderr",
     "output_type": "stream",
     "text": [
      "100%|█████████████████████████████████████████████████████████████████████████████████████████████████████████████████████████████████████████████████████████████████████████████████████████████| 225/225 [00:28<00:00,  8.00it/s]\n"
     ]
    },
    {
     "name": "stdout",
     "output_type": "stream",
     "text": [
      "Epoch: 0, Loss: 0.21663996577262878\n"
     ]
    },
    {
     "name": "stderr",
     "output_type": "stream",
     "text": [
      "100%|█████████████████████████████████████████████████████████████████████████████████████████████████████████████████████████████████████████████████████████████████████████████████████████████| 225/225 [00:26<00:00,  8.59it/s]\n"
     ]
    },
    {
     "name": "stdout",
     "output_type": "stream",
     "text": [
      "Epoch: 1, Loss: 0.1707753688097\n"
     ]
    },
    {
     "name": "stderr",
     "output_type": "stream",
     "text": [
      "100%|█████████████████████████████████████████████████████████████████████████████████████████████████████████████████████████████████████████████████████████████████████████████████████████████| 225/225 [00:26<00:00,  8.63it/s]\n"
     ]
    },
    {
     "name": "stdout",
     "output_type": "stream",
     "text": [
      "Epoch: 2, Loss: 0.135062575340271\n"
     ]
    },
    {
     "name": "stderr",
     "output_type": "stream",
     "text": [
      "100%|█████████████████████████████████████████████████████████████████████████████████████████████████████████████████████████████████████████████████████████████████████████████████████████████| 225/225 [00:26<00:00,  8.62it/s]\n"
     ]
    },
    {
     "name": "stdout",
     "output_type": "stream",
     "text": [
      "Epoch: 3, Loss: 0.11968311667442322\n"
     ]
    },
    {
     "name": "stderr",
     "output_type": "stream",
     "text": [
      "100%|█████████████████████████████████████████████████████████████████████████████████████████████████████████████████████████████████████████████████████████████████████████████████████████████| 225/225 [00:26<00:00,  8.62it/s]\n"
     ]
    },
    {
     "name": "stdout",
     "output_type": "stream",
     "text": [
      "Epoch: 4, Loss: 0.10739193111658096\n"
     ]
    },
    {
     "name": "stderr",
     "output_type": "stream",
     "text": [
      "100%|█████████████████████████████████████████████████████████████████████████████████████████████████████████████████████████████████████████████████████████████████████████████████████████████| 225/225 [00:26<00:00,  8.61it/s]\n"
     ]
    },
    {
     "name": "stdout",
     "output_type": "stream",
     "text": [
      "Epoch: 5, Loss: 0.10290320217609406\n"
     ]
    },
    {
     "name": "stderr",
     "output_type": "stream",
     "text": [
      "100%|█████████████████████████████████████████████████████████████████████████████████████████████████████████████████████████████████████████████████████████████████████████████████████████████| 225/225 [00:26<00:00,  8.61it/s]\n"
     ]
    },
    {
     "name": "stdout",
     "output_type": "stream",
     "text": [
      "Epoch: 6, Loss: 0.09469141066074371\n"
     ]
    },
    {
     "name": "stderr",
     "output_type": "stream",
     "text": [
      "100%|█████████████████████████████████████████████████████████████████████████████████████████████████████████████████████████████████████████████████████████████████████████████████████████████| 225/225 [00:26<00:00,  8.61it/s]\n"
     ]
    },
    {
     "name": "stdout",
     "output_type": "stream",
     "text": [
      "Epoch: 7, Loss: 0.10218621790409088\n"
     ]
    },
    {
     "name": "stderr",
     "output_type": "stream",
     "text": [
      "100%|█████████████████████████████████████████████████████████████████████████████████████████████████████████████████████████████████████████████████████████████████████████████████████████████| 225/225 [00:26<00:00,  8.61it/s]"
     ]
    },
    {
     "name": "stdout",
     "output_type": "stream",
     "text": [
      "Epoch: 8, Loss: 0.11587132513523102\n"
     ]
    },
    {
     "name": "stderr",
     "output_type": "stream",
     "text": [
      "\n"
     ]
    }
   ],
   "source": [
    "c.train_neural_net()"
   ]
  },
  {
   "cell_type": "code",
   "execution_count": 16,
   "id": "704b83ff-262c-4b01-a66d-10cd9d1a5063",
   "metadata": {},
   "outputs": [
    {
     "name": "stderr",
     "output_type": "stream",
     "text": [
      "100%|██████████████████████████████████████████████████████████████████████████████████████████████████████████████████████████████████████████████████████████████████████████████████████████| 2494/2494 [00:03<00:00, 764.54it/s]"
     ]
    },
    {
     "name": "stdout",
     "output_type": "stream",
     "text": [
      "Accuracy:  0.731\n"
     ]
    },
    {
     "name": "stderr",
     "output_type": "stream",
     "text": [
      "\n"
     ]
    }
   ],
   "source": [
    "c.test_neural_net()"
   ]
  },
  {
   "cell_type": "code",
   "execution_count": 35,
   "id": "f7a74dab-c43b-4e7e-b484-e8a1bd3fbff1",
   "metadata": {},
   "outputs": [
    {
     "data": {
      "text/plain": [
       "array([[153, 150, 154, ...,  25,  35,  37],\n",
       "       [181, 182, 182, ...,  27,  34,  34],\n",
       "       [200, 204, 208, ...,  27,  22,  42],\n",
       "       ...,\n",
       "       [ 18,   9,  10, ...,  55,  34,  72],\n",
       "       [ 17,   9,   8, ...,  67,  45,  30],\n",
       "       [ 20,  10,   9, ...,  52,  38,  41]], dtype=uint8)"
      ]
     },
     "execution_count": 35,
     "metadata": {},
     "output_type": "execute_result"
    }
   ],
   "source": [
    "cat = '4.jpg'\n",
    "img = cv2.imread(cat, cv2.IMREAD_GRAYSCALE)\n",
    "img = cv2.resize(\n",
    "    img, \n",
    "    (c.img_size, c.img_size)\n",
    ")\n",
    "np_img = np.array(img)\n",
    "np_img"
   ]
  },
  {
   "cell_type": "code",
   "execution_count": 36,
   "id": "0d7e02da-8efa-49f5-a19b-c1d68e4acf77",
   "metadata": {},
   "outputs": [],
   "source": [
    "X = torch.Tensor(np_img).view(-1, 1, 50, 50)"
   ]
  },
  {
   "cell_type": "code",
   "execution_count": 37,
   "id": "db34bc9e-dcd1-4f54-8724-8f1b3bbd5d4d",
   "metadata": {},
   "outputs": [],
   "source": [
    "output = c.net(X.to(c.device))"
   ]
  },
  {
   "cell_type": "code",
   "execution_count": 38,
   "id": "580040c6-ed3f-4bcb-8826-bf41fd407125",
   "metadata": {},
   "outputs": [
    {
     "data": {
      "text/plain": [
       "tensor(1, device='cuda:0')"
      ]
     },
     "execution_count": 38,
     "metadata": {},
     "output_type": "execute_result"
    }
   ],
   "source": [
    "torch.argmax(output)"
   ]
  },
  {
   "cell_type": "code",
   "execution_count": null,
   "id": "389a5f70-6f32-4a75-8f2f-c1e74b8d76ac",
   "metadata": {},
   "outputs": [],
   "source": []
  }
 ],
 "metadata": {
  "kernelspec": {
   "display_name": "Python 3 (ipykernel)",
   "language": "python",
   "name": "python3"
  },
  "language_info": {
   "codemirror_mode": {
    "name": "ipython",
    "version": 3
   },
   "file_extension": ".py",
   "mimetype": "text/x-python",
   "name": "python",
   "nbconvert_exporter": "python",
   "pygments_lexer": "ipython3",
   "version": "3.10.12"
  }
 },
 "nbformat": 4,
 "nbformat_minor": 5
}
